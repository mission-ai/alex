{
 "cells": [
  {
   "cell_type": "markdown",
   "id": "031d9f98-5b80-4ee8-9003-92357afb726e",
   "metadata": {
    "tags": []
   },
   "source": [
    "<p style=\"text-align:center;\">Call tree for the xml_to_text module</p>\n",
    "\n",
    "| Level 1             |  Level 2           | Level 3            |\n",
    "|---------------------|--------------------|--------------------|\n",
    "| process_directory() |                    |                    |\n",
    "|                     | process_xml_file() |                    |\n",
    "|                     |                    | replace_tags()     |\n",
    "|                     |                    | extract_metadata() |\n",
    "|                     |                    | process_body()     |\n",
    "|                     |                    | clean_text()       |\n",
    "|                     | format_metadata()  |                    |    \n"
   ]
  },
  {
   "cell_type": "code",
   "execution_count": 12,
   "id": "0c0aff29-d6a0-4f4a-864b-8c0a32f790b5",
   "metadata": {
    "tags": []
   },
   "outputs": [],
   "source": [
    "import os\n",
    "import xml.etree.ElementTree as ET\n",
    "import re"
   ]
  },
  {
   "cell_type": "code",
   "execution_count": 11,
   "id": "9e544451-82bf-4ae1-8b1e-6af08a16c010",
   "metadata": {
    "tags": []
   },
   "outputs": [],
   "source": [
    "def extract_metadata(root):\n",
    "    \"\"\"This function extracts metadata from the XML header section.\n",
    "    \n",
    "       Args:\n",
    "           root: The root element of an XML hierarchy. The object returned by ElementTree getroot().\n",
    "           \n",
    "       Returns:\n",
    "           metadata\n",
    "    \"\"\"\n",
    "    metadata = {}\n",
    "    header = root.find('.//HEADER')  # Find the HEADER section in the XML\n",
    "    if header is not None:\n",
    "        for elem in header.iter():   # Iterate through all elements in the HEADER\n",
    "            tag = elem.tag.lower()\n",
    "            if tag not in metadata:\n",
    "                metadata[tag] = elem.text.strip() if elem.text else ''\n",
    "            else:\n",
    "                # Append additional text if the tag already exists\n",
    "                additional_text = elem.text.strip() if elem.text else ''\n",
    "                if additional_text:\n",
    "                    metadata[tag] += f\"; {additional_text}\"\n",
    "    return metadata"
   ]
  },
  {
   "cell_type": "code",
   "execution_count": 12,
   "id": "f3a1f5a9-f001-4433-80b6-f0b5025ddb70",
   "metadata": {
    "tags": []
   },
   "outputs": [],
   "source": [
    "def process_body(root):\n",
    "    \"\"\"This function processes the body content and cleans it.\n",
    "        \n",
    "       Args:\n",
    "           root: The root element of an XML hierarchy. The object returned by ElementTree getroot().\n",
    "           \n",
    "       Returns:\n",
    "           sections: The text found in the xml document's body.\n",
    "    \"\"\"\n",
    "    sections = []\n",
    "    current_section = []\n",
    "    start_processing = False\n",
    "\n",
    "    for elem in root.iter():\n",
    "        if elem.tag == 'DIV1':\n",
    "            start_processing = True\n",
    "            continue  # Skip the metadata sections itself\n",
    "\n",
    "        if start_processing:\n",
    "            if elem.tag == 'DIV1':\n",
    "                if current_section:\n",
    "                    sections.append('\\n'.join(current_section))\n",
    "                    current_section = []\n",
    "            if elem.tag in ['HEAD', 'Q']:\n",
    "                if current_section:\n",
    "                    sections.append('\\n'.join(current_section))\n",
    "                    current_section = []\n",
    "                current_section.append(f\"\\n{clean_text(get_text(elem))}\\n\")\n",
    "            elif elem.tag == 'L':\n",
    "                current_section.append(clean_text(get_text(elem)))\n",
    "            elif elem.tag == 'P':\n",
    "                if current_section:\n",
    "                    sections.append('\\n'.join(current_section))\n",
    "                    current_section = []\n",
    "                sections.append(clean_text(get_text(elem)))\n",
    "\n",
    "    if current_section:\n",
    "        sections.append('\\n'.join(current_section))\n",
    "\n",
    "    return '\\n\\n'.join(sections)"
   ]
  },
  {
   "cell_type": "code",
   "execution_count": 4,
   "id": "6dc70a6d-91f1-4639-93d3-373e58a102ea",
   "metadata": {
    "tags": []
   },
   "outputs": [],
   "source": [
    "def get_text(elem):\n",
    "    \"\"\"This function extracts the text from an element, including text within tags.\"\"\"\n",
    "    text = (elem.text or '') + ''.join((child.text or '') + (child.tail or '') for child in elem)\n",
    "    return text"
   ]
  },
  {
   "cell_type": "code",
   "execution_count": 1,
   "id": "f37c42fb-066b-4334-bded-0772388db3ff",
   "metadata": {
    "tags": []
   },
   "outputs": [],
   "source": [
    "def clean_text(text):\n",
    "    \"\"\"This function cleans and formats text content.\"\"\"\n",
    "    if text is None:\n",
    "        return ''\n",
    "    text = text.replace('∣', '').replace('▪', '')  # Remove specific unwanted characters\n",
    "    text = re.sub(r'<[^>]+>', '', text)            # Remove other HTML-like tags\n",
    "    text = re.sub(r'[ \\t]+', ' ', text)            # Replace multiple spaces/tabs with a single space\n",
    "    text = re.sub(r'\\n\\s*\\n', '\\n\\n', text)        # Replace multiple newlines with double newlines\n",
    "\n",
    "    return text.strip()"
   ]
  },
  {
   "cell_type": "code",
   "execution_count": 6,
   "id": "3b3494d3-a746-4e0a-9627-2f873d9baee3",
   "metadata": {
    "tags": []
   },
   "outputs": [],
   "source": [
    "def replace_tags(xml_content):\n",
    "    \"\"\"This function replaces specific tags in the XML content.\"\"\"\n",
    "    # Replace <ABBR><HI>l</HI></ABBR> with (pounds)\n",
    "    xml_content = xml_content.replace('<ABBR><HI>l</HI></ABBR>', '(pounds)')\n",
    "\n",
    "    # Replace <P><GAP DESC=\"music\" DISP=\"〈♫〉\"/></P> with (music)\n",
    "    xml_content = xml_content.replace('<GAP DESC=\"music\" DISP=\"〈♫〉\"/>', '〈♫〉')\n",
    "\n",
    "    # Replace <SEG REND=\"decorInit\">X</SEG> with X for any letter X\n",
    "    xml_content = re.sub(r'<SEG REND=\"decorInit\">(.*?)</SEG>', r'\\1', xml_content)\n",
    "\n",
    "    # Replace <HI><SEG REND=\"decorInit\">X</SEG>Y</HI> with XY for any letters X and Y\n",
    "    xml_content = re.sub(r'<HI><SEG REND=\"decorInit\">(.*?)</SEG>(.*?)</HI>', r'\\1\\2', xml_content)\n",
    "\n",
    "    return xml_content"
   ]
  },
  {
   "cell_type": "code",
   "execution_count": 9,
   "id": "0c75b51e-239f-47af-888b-9c0eb1da1d8f",
   "metadata": {
    "tags": []
   },
   "outputs": [],
   "source": [
    "def process_xml_file(xml_file_path):\n",
    "    \"\"\"This function parses a single XML file and processes its content.\n",
    "    \n",
    "       Args:\n",
    "           xml_file_path: The path to a single xml file.\n",
    "           \n",
    "       Returns:\n",
    "           metadata, clean_content\n",
    "    \"\"\"\n",
    "    with open(xml_file_path, 'r', encoding='utf-8') as file:\n",
    "        xml_content = file.read()\n",
    "\n",
    "    # Replace specific tags in the XML content\n",
    "    xml_content = replace_tags(xml_content)\n",
    "\n",
    "    tree = ET.ElementTree(ET.fromstring(xml_content))  # Parse the modified XML content\n",
    "    root = tree.getroot()                              # Get the root element of the XML\n",
    "\n",
    "    # Extract metadata, process the text body, and then clean it.\n",
    "    metadata = extract_metadata(root)\n",
    "    all_text_context = process_body(root)\n",
    "    clean_content = clean_text(all_text_context)\n",
    "\n",
    "    return metadata, clean_content"
   ]
  },
  {
   "cell_type": "code",
   "execution_count": 8,
   "id": "bdc543da-3d48-47d7-97e7-7879c3e0b773",
   "metadata": {
    "tags": []
   },
   "outputs": [],
   "source": [
    "def format_metadata(metadata):\n",
    "    \"\"\"This function formats metadata for display.\"\"\"\n",
    "    return \"\\n\".join([f\"{key.upper()}: {value}\" for key, value in metadata.items() if value])"
   ]
  },
  {
   "cell_type": "code",
   "execution_count": 10,
   "id": "6d386f03-c4c3-4d89-9a94-a10c6eac2887",
   "metadata": {
    "tags": []
   },
   "outputs": [],
   "source": [
    "def process_directory(directory_path, metadata_output_directory, text_output_directory):\n",
    "    \"\"\"This function process all XML files in a directory and saves output to specified directories.\n",
    "    \n",
    "       Args: \n",
    "            directory_path: The path to the source xml files.\n",
    "            metadata_output_directory: The directory where metadata files will be written.\n",
    "            text_output_directory: The directory where the cleaned text files will be written.\n",
    "             \n",
    "       Returns:\n",
    "            None - prints success message if no errors encountered. \n",
    "    \"\"\"\n",
    "    for filename in os.listdir(directory_path):\n",
    "        if filename.endswith('.xml'):\n",
    "            xml_file_path = os.path.join(directory_path, filename)\n",
    "            metadata, clean_content = process_xml_file(xml_file_path)\n",
    "            formatted_metadata = format_metadata(metadata)\n",
    "\n",
    "            # Ensure the output directories exist\n",
    "            # os.makedirs(metadata_output_directory, exist_ok=True)\n",
    "            # os.makedirs(text_output_directory, exist_ok=True)\n",
    "\n",
    "            # Save metadata to the specified directory\n",
    "            metadata_file_path = os.path.join(metadata_output_directory, f\"{os.path.splitext(filename)[0]}.txt\")\n",
    "            with open(metadata_file_path, 'w', encoding='utf-8') as f:\n",
    "                f.write(formatted_metadata)\n",
    "\n",
    "            # Save text content to the specified directory\n",
    "            text_file_path = os.path.join(text_output_directory, f\"{os.path.splitext(filename)[0]}.txt\")\n",
    "            with open(text_file_path, 'w', encoding='utf-8') as f:\n",
    "                f.write(clean_content)\n",
    "\n",
    "            print(f\"Processed and saved: {metadata_file_path} and {text_file_path}\")"
   ]
  },
  {
   "cell_type": "code",
   "execution_count": 10,
   "id": "4fa8b2d3-4a71-42ce-8600-f912124dd74d",
   "metadata": {
    "tags": []
   },
   "outputs": [
    {
     "data": {
      "text/plain": [
       "'/blue/humanities/danielmaxwell/alex'"
      ]
     },
     "execution_count": 10,
     "metadata": {},
     "output_type": "execute_result"
    }
   ],
   "source": [
    "os.getcwd()"
   ]
  },
  {
   "cell_type": "code",
   "execution_count": null,
   "id": "d4c7c52e-dc08-46bb-8caf-c78644d2eaf5",
   "metadata": {
    "tags": []
   },
   "outputs": [],
   "source": [
    "directory_path = '../B4_Ph2/B4'\n",
    "metadata_output_directory = '../data_split/meta'\n",
    "text_output_directory = '../data_split/text'\n",
    "process_directory(directory_path, metadata_output_directory, text_output_directory)"
   ]
  },
  {
   "cell_type": "code",
   "execution_count": null,
   "id": "9f2927c8-cc99-413c-8c14-7a97802b2e33",
   "metadata": {
    "tags": []
   },
   "outputs": [],
   "source": [
    "help (process_body)"
   ]
  }
 ],
 "metadata": {
  "kernelspec": {
   "display_name": "Python 3 (ipykernel)",
   "language": "python",
   "name": "python3"
  },
  "language_info": {
   "codemirror_mode": {
    "name": "ipython",
    "version": 3
   },
   "file_extension": ".py",
   "mimetype": "text/x-python",
   "name": "python",
   "nbconvert_exporter": "python",
   "pygments_lexer": "ipython3",
   "version": "3.10.12"
  }
 },
 "nbformat": 4,
 "nbformat_minor": 5
}
